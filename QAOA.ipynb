{
 "cells": [
  {
   "cell_type": "code",
<<<<<<< HEAD
<<<<<<< HEAD
   "execution_count": 10,
   "metadata": {},
   "outputs": [],
   "source": [
    "import qsharp"
   ]
  },
  {
   "cell_type": "code",
   "execution_count": 102,
=======
   "execution_count": 1,
>>>>>>> 6557ef72f52a9ebcfa1912a74fb74109bad0a9bb
=======
   "execution_count": 2,
>>>>>>> bfdee9634bc9cf84b7ad034e39d7693f2b1ea06f
   "metadata": {},
   "outputs": [
    {
     "name": "stdout",
     "output_type": "stream",
     "text": [
<<<<<<< HEAD
      "D:\\snippet_.qs(48,23): warning QS3308: Deprecated syntax. Use [] to construct an empty array, or [x, size = n] to construct an array of x repeated n times.\r\n",
      "D:\\snippet_.qs(73,23): warning QS3308: Deprecated syntax. Use [] to construct an empty array, or [x, size = n] to construct an array of x repeated n times.\r\n",
      "D:\\snippet_.qs(147,30): warning QS3308: Deprecated syntax. Use [] to construct an empty array, or [x, size = n] to construct an array of x repeated n times.\r\n"
=======
      "Preparing Q# environment...\n"
     ]
    }
   ],
   "source": [
    "import qsharp"
   ]
  },
  {
   "cell_type": "code",
   "execution_count": 3,
   "metadata": {},
   "outputs": [
    {
     "name": "stdout",
     "output_type": "stream",
     "text": [
      "[[ 0 48 91]\n",
      " [48  0 63]\n",
      " [91 63  0]]\n"
     ]
    },
    {
     "name": "stderr",
     "output_type": "stream",
     "text": [
      "C:\\Users\\marlo\\AppData\\Local\\Temp\\ipykernel_33996\\1999253628.py:11: FutureWarning: adjacency_matrix will return a scipy.sparse array instead of a matrix in Networkx 3.0.\n",
      "  adjacency = nx.adjacency_matrix(graph).todense()\n"
     ]
    },
    {
     "data": {
      "image/png": "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\n",
      "text/plain": [
       "<Figure size 640x480 with 1 Axes>"
      ]
     },
     "metadata": {},
     "output_type": "display_data"
    }
   ],
   "source": [
    "import networkx as nx\n",
    "\n",
    "graph = nx.Graph()\n",
    "graph.add_nodes_from([0, 1, 2])\n",
    "graph.add_weighted_edges_from([(0, 1, 48), (1, 2, 63), (2, 0, 91)])\n",
    "edge_labels = nx.get_edge_attributes(graph, \"weight\")\n",
    "nx.draw(graph, with_labels=True, alpha=0.8, node_size=500)\n",
    "#nx.draw_networkx_edge_labels(graph, font_color=\"b\", edge_labels=edge_labels)\n",
    "\n",
    "\n",
    "adjacency = nx.adjacency_matrix(graph).todense()\n",
    "print(adjacency)\n"
   ]
  },
  {
   "cell_type": "code",
   "execution_count": 4,
   "metadata": {},
   "outputs": [
    {
     "name": "stdout",
     "output_type": "stream",
     "text": [
      "D:\\snippet_.qs(107,19): warning QS3308: Deprecated syntax. Use [] to construct an empty array, or [x, size = n] to construct an array of x repeated n times.\r\n",
      "D:\\snippet_.qs(132,19): warning QS3308: Deprecated syntax. Use [] to construct an empty array, or [x, size = n] to construct an array of x repeated n times.\r\n",
      "D:\\snippet_.qs(201,26): warning QS3308: Deprecated syntax. Use [] to construct an empty array, or [x, size = n] to construct an array of x repeated n times.\r\n"
>>>>>>> 6557ef72f52a9ebcfa1912a74fb74109bad0a9bb
     ]
    }
   ],
   "source": [
    "%%qsharp\n",
    "\n",
    "\n",
    "\n",
    "open Microsoft.Quantum.Canon;\n",
    "open Microsoft.Quantum.Intrinsic;\n",
    "open Microsoft.Quantum.Convert;\n",
    "open Microsoft.Quantum.Math;\n",
    "open Microsoft.Quantum.Arithmetic;\n",
    "open Microsoft.Quantum.Preparation;\n",
    "open Microsoft.Quantum.Diagnostics;\n",
    "\n",
    "operation getDistanceMatrix():Double[][]{\n",
    "    return [[ 0., 48., 91.],\n",
    "            [48.,  0., 63.],\n",
    "            [91., 63.,  0.]];\n",
    "}\n",
    "\n",
    "\n",
    "@EntryPoint()\n",
    "operation testQAOA():Double{\n",
    "    let res = meanCost(QAOA(3,1,5.,5.));\n",
    "    return res;\n",
    "}\n",
    "\n",
    "operation testQAOALength5():Double{\n",
    "    let res = meanCost(QAOALength5Test(5,1,[5.],[5.]));\n",
    "    return res;\n",
    "}\n",
    "\n",
<<<<<<< HEAD
    "    operation getDistanceMatrix():Double[][]{\n",
    "        return [[0.,1., 2., 3., 4.],[0.,1., 2., 3., 4.],[0.,1., 2., 3., 4.],[0.,1., 2., 3., 4.],[0.,1., 2., 3., 4.]];\n",
=======
    "operation testQAOAWithX(gamma:Double, beta:Double):Double{\n",
    "    let res = costAttempt(QAOA(9,1,gamma,beta));\n",
    "    return res;\n",
    "}\n",
    "\n",
    "// operation makeXMatrix (results : Int[]) : Int[][]{\n",
    "//     mutable sideLength = DoubleAsInt(Sqrt(IntAsDouble(Length(results))));\n",
    "//     mutable x = [[0, size=sideLength], size=sideLength];\n",
    "//     for i in 0..sideLength-1{\n",
    "//         for j in 0.. sideLength-1{\n",
    "//             set x w/= [i][j] <- results[i+j];\n",
    "//         }\n",
    "//     }\n",
    "//     return x;\n",
    "// }\n",
    "\n",
    "operation costAttempt(result:Int[]):Double{\n",
    "    //D(x)\n",
    "    let z = Sqrt(IntAsDouble(Length(result)));\n",
    "    let sideLength = Floor(z);\n",
    "    //Message($\"The side length {sideLength}\");\n",
    "    mutable Dx = 0.0;\n",
    "    let distances = getDistanceMatrix();\n",
    "    for i in 0..sideLength-1{\n",
    "        for j in 0..sideLength-1{\n",
    "            mutable innerSum = 0.0;\n",
    "            for t in 0..sideLength-2{\n",
    "                set innerSum = innerSum + IntAsDouble(result[i+t*sideLength]) + IntAsDouble(result[j+(t+1)*sideLength]);\n",
    "                //Message($\"i+t*sideLength is  {i+t*sideLength}\");\n",
    "                //Message($\"j+(t+1)*sideLength is  {j+(t+1)*sideLength}\");\n",
    "            }\n",
    "            set Dx = Dx + distances[i][j]*innerSum;\n",
    "        }\n",
    "    }\n",
    "    //-----------------------------------------------------------------------------------------------\n",
    "\n",
    "    //C(x)\n",
    "\n",
    "    mutable Cx = 0.0;\n",
    "    let A = 200.;//We need to adjust this parameter A until it works (should be \"much larger\" than the edge weights)\n",
    "    mutable innerSum2 = 0.0;\n",
    "    for i in 0..sideLength-1{\n",
    "        mutable innerLeft = 0.0;\n",
    "        for t in 0..sideLength-1{\n",
    "            set innerLeft += IntAsDouble(result[i+t*sideLength]);\n",
    "        }\n",
    "        set innerSum2 = innerSum2 + (1. - innerLeft)^2.;\n",
>>>>>>> 6557ef72f52a9ebcfa1912a74fb74109bad0a9bb
    "    }\n",
    "\n",
    "    for t in 0..sideLength-1{\n",
    "        mutable innerRight = 0.0;\n",
    "        for i in 0..sideLength-1{\n",
    "            set innerRight += IntAsDouble(result[i+t*sideLength]);\n",
    "        }\n",
    "        set innerSum2 = innerSum2 + (1. - innerRight)^2.;\n",
    "    }\n",
    "\n",
    "    set Cx = Dx + A*innerSum2;\n",
    "    return Cx;\n",
    "}\n",
    "\n",
    "operation QAOA (lengthRegister:Int, p:Int, beta:Double, gamma:Double) : Int[]{\n",
    "\n",
    "    //input qubits\n",
    "    use register = Qubit[lengthRegister];\n",
    "\n",
    "    //prepare qubits by creating uniform superposition\n",
    "    ApplyToEach(H, register);\n",
    "\n",
    "    //repeat cost and mixer steps p times\n",
    "    //I think that we might need a new gamma and beta for each p\n",
    "    for i in 1..p{\n",
    "        costHamiltonianFlexible(register, gamma);\n",
    "        mixerHamiltonian(register, beta);\n",
    "    }\n",
    "\n",
<<<<<<< HEAD
    "        //input qubits\n",
    "        use register = Qubit[lengthRegister];\n",
=======
    "    //Read the results as a boolean array (true==1, false==0)\n",
    "    mutable res = new Int[Length(register)];\n",
    "    for i in 0..Length(register)-1{\n",
    "        set res w/= i <- (M(register[i]) == One ? 1 | 0);\n",
    "    }\n",
    "\n",
    "    //return the results\n",
    "    return res;\n",
    " }\n",
    "\n",
    "operation QAOALength5Test (lengthRegister:Int, p:Int, beta:Double[], gamma:Double[]) : Int[]{\n",
    "\n",
    "    //input qubits\n",
    "    use register = Qubit[lengthRegister];\n",
    "\n",
    "    //prepare qubits by creating uniform superposition\n",
    "    ApplyToEach(H, register);\n",
>>>>>>> 6557ef72f52a9ebcfa1912a74fb74109bad0a9bb
    "\n",
    "    //repeat cost and mixer steps p times\n",
    "    //I think that we might need a new gamma and beta for each p\n",
    "    for i in 1..p{\n",
    "        costHamiltonianLength5(register, gamma[p-1]);\n",
    "        mixerHamiltonian(register, beta[p-1]);\n",
    "    }\n",
    "\n",
<<<<<<< HEAD
    "        //repeat cost and mixer steps p times\n",
    "        //I think that we might need a new gamma and beta for each p\n",
    "        for i in 1..p{\n",
    "            costHamiltonianFlexible(register, gamma[p-1]);\n",
    "            mixerHamiltonian(register, beta[p-1]);\n",
    "        }\n",
    "\n",
    "        //Read the results as a boolean array (true==1, false==0)\n",
    "        mutable res = new Int[Length(register)];\n",
    "        for i in 0..Length(register)-1{\n",
    "            set res w/= i <- (M(register[i]) == One ? 1 | 0);\n",
    "        }\n",
=======
    "    //Read the results as a boolean array (true==1, false==0)\n",
    "    mutable res = new Int[Length(register)];\n",
    "    for i in 0..Length(register)-1{\n",
    "        set res w/= i <- (M(register[i]) == One ? 1 | 0);\n",
    "    }\n",
    "\n",
    "    //return the results\n",
    "    return res;\n",
    " }\n",
>>>>>>> 6557ef72f52a9ebcfa1912a74fb74109bad0a9bb
    "\n",
    " operation costHamiltonianLength5 (register:Qubit[], gamma:Double):Unit{\n",
    "    //Assuming lenght of register is 5\n",
    "    //I aint commenting this sheet\n",
    "    let (q0, q1, q2, q3, q4)= (register[0], register[1], register[2], register[3], register[4]);\n",
    "    CNOT(q1, q0);\n",
    "    Rz(gamma, q0);\n",
    "    CNOT(q1, q0);\n",
    "    CNOT(q2, q0);\n",
    "    CNOT(q2, q0);\n",
    "    Rz(gamma, q0);\n",
    "    CNOT(q2, q0);\n",
    "    CNOT(q2, q1);\n",
    "    CNOT(q3, q0);\n",
    "    Rz(5.*gamma, q0);\n",
    "    Rz(2.*gamma, q1);\n",
    "    CNOT(q2, q1);\n",
    "    CNOT(q3, q0);\n",
    "    CNOT(q3, q1);\n",
    "    CNOT(q4, q0);\n",
    "    Rz(5.*gamma, q0);\n",
    "    Rz(gamma, q1);\n",
    "    CNOT(q3, q1);\n",
    "    CNOT(q4, q0);\n",
    "    CNOT(q3, q2);\n",
    "    CNOT(q4, q1);\n",
    "    Rz(3.*gamma, q1);\n",
    "    Rz(5.*gamma, q2);\n",
    "    CNOT(q3, q2);\n",
    "    CNOT(q4, q1);\n",
    "    CNOT(q4, q2);\n",
    "    Rz(gamma, q2);\n",
    "    CNOT(q4, q2);\n",
    "    CNOT(q4, q3);\n",
    "    Rz(5.*gamma, q3);\n",
    "    CNOT(q4, q3);\n",
    " }\n",
    "\n",
<<<<<<< HEAD
<<<<<<< HEAD
    "        //input qubits\n",
    "        use register = Qubit[lengthRegister];\n",
    "\n",
    "        //prepare qubits by creating uniform superposition\n",
    "        ApplyToEach(H, register);\n",
    "\n",
    "        //repeat cost and mixer steps p times\n",
    "        //I think that we might need a new gamma and beta for each p\n",
    "        for i in 1..p{\n",
    "            costHamiltonianLength5(register, gamma[p-1]);\n",
    "            mixerHamiltonian(register, beta[p-1]);\n",
    "        }\n",
    "\n",
    "        //Read the results as a boolean array (true==1, false==0)\n",
    "        mutable res = new Int[Length(register)];\n",
    "        for i in 0..Length(register)-1{\n",
    "            set res w/= i <- (M(register[i]) == One ? 1 | 0);\n",
    "        }\n",
    "\n",
    "        //return the results\n",
    "        return res;\n",
    "     }\n",
    "\n",
    "     operation costHamiltonianLength5 (register:Qubit[], gamma:Double):Unit{\n",
    "        //Assuming lenght of register is 5\n",
    "        //I aint commenting this sheet\n",
    "        let (q0, q1, q2, q3, q4)= (register[0], register[1], register[2], register[3], register[4]);\n",
    "        CNOT(q1, q0);\n",
    "        Rz(gamma, q0);\n",
    "        CNOT(q1, q0);\n",
    "        CNOT(q2, q0);\n",
    "        CNOT(q2, q0);\n",
    "        Rz(gamma, q0);\n",
    "        CNOT(q2, q0);\n",
    "        CNOT(q2, q1);\n",
    "        CNOT(q3, q0);\n",
    "        Rz(5.*gamma, q0);\n",
    "        Rz(2.*gamma, q1);\n",
    "        CNOT(q2, q1);\n",
    "        CNOT(q3, q0);\n",
    "        CNOT(q3, q1);\n",
    "        CNOT(q4, q0);\n",
    "        Rz(5.*gamma, q0);\n",
    "        Rz(gamma, q1);\n",
    "        CNOT(q3, q1);\n",
    "        CNOT(q4, q0);\n",
    "        CNOT(q3, q2);\n",
    "        CNOT(q4, q1);\n",
    "        Rz(3.*gamma, q1);\n",
    "        Rz(5.*gamma, q2);\n",
    "        CNOT(q3, q2);\n",
    "        CNOT(q4, q1);\n",
    "        CNOT(q4, q2);\n",
    "        Rz(gamma, q2);\n",
    "        CNOT(q4, q2);\n",
    "        CNOT(q4, q3);\n",
    "        Rz(5.*gamma, q3);\n",
    "        CNOT(q4, q3);\n",
    "     }\n",
    "\n",
    "     //Flexible cost hamiltonian layer\n",
    "     //Misssing weights\n",
    "     operation costHamiltonianFlexible (register : Qubit[], gamma:Double):Unit{         \n",
    "         ApplyToEach(Rx(gamma, _), register);\n",
    "         for i in 0..Length(register)-1{\n",
    "             for j in i+1..Length(register)-1{\n",
    "                 Rzz(gamma, register[i], register[j]);\n",
    "             }\n",
    "         }\n",
    "\t }\n",
    "\n",
    "     operation mixerHamiltonian (register:Qubit[], beta:Double):Unit{\n",
    "         //uhhh yeah you just like do this\n",
    "         ApplyToEach(Rx(2.*beta, _), register);\n",
    "     }\n",
    "    \n",
    "    \n",
    "    operation meanCost(x:Int[]):Double{\n",
    "        mutable res = 0.0;\n",
    "        //for //i in 0..Length(x)-1{\n",
    "          //  set res += cost(x[i]);\n",
    "        //}\n",
    "        let distances = getDistanceMatrix();\n",
    "        mutable horizontal = new Double[Length(x)];\n",
    "        for i in 0..Length(x)-1{\n",
    "            for j in 0..Length(x)-1{\n",
    "                set horizontal w/= i <-horizontal[i]+IntAsDouble(x[i])*distances[i][j]; //may be distances[j,i]\n",
    "            }            \n",
    "        }\n",
    "        \n",
    "        for k in 0..Length(x)-1{\n",
    "            set res = res+horizontal[k]*IntAsDouble(x[k]);\n",
    "        }\n",
    "        \n",
    "        return res;///IntAsDouble(Length(x));\n",
    "    }\n",
    "\n",
    "    // operation classicalOptimizerBasic(meanCostRes:Double, gamma:Double, beta:Double, p:Int, length:Int, learnignRate: Double):(Double, Double){\n",
    "    //     mutable g = gamma;\n",
    "    //     mutable b = beta;\n",
    "    //     mutable min = [gamma, beta];\n",
    "    //     for i in -1..1{\n",
    "    //         if i !=0{\n",
    "    //             for j in -1..1{\n",
    "    //                 if j!= 0{\n",
    "    //                     set g = gamma + IntAsDouble(i)*learnignRate;\n",
    "    //                     set b = beta + IntAsDouble(j)*learnignRate;\n",
    "    //                     if meanCostRes < meanCost(QAOA(length, p, g, b)){\n",
    "    //                         set min = [g, b];\n",
    "    //                     } \n",
    "    //                 }\n",
    "    //             }\n",
    "    //         }\n",
    "    //     }\n",
    "    //     return (min[0], min[1]);\n",
    "    // }\n",
    "    \n",
    "        operation test(x: Double, y:Double, z:Int):Double{\n",
    "        return 100.0;\n",
    "    }\n",
    "     \n",
    "\n",
    "\n",
    "//}"
=======
    " //Flexible cost hamiltonian layer\n",
    " //Misssing weights\n",
    " operation costHamiltonianFlexible (register : Qubit[], gamma:Double):Unit{         \n",
=======
    "//Flexible cost hamiltonian layer\n",
    "//Misssing weights\n",
    "operation costHamiltonianFlexible (register : Qubit[], gamma:Double):Unit{         \n",
>>>>>>> bfdee9634bc9cf84b7ad034e39d7693f2b1ea06f
    "     ApplyToEach(Rx(gamma, _), register);\n",
    "     for i in 0..Length(register)-1{\n",
    "         for j in i+1..Length(register)-1{\n",
    "             Rzz(gamma, register[i], register[j]);\n",
    "         }\n",
    "     }\n",
    " }\n",
    "\n",
    "operation mixerHamiltonian (register:Qubit[], beta:Double):Unit{\n",
    "     //uhhh yeah you just like do this\n",
    "     ApplyToEach(Rx(2.*beta, _), register);\n",
    " }\n",
    "\n",
    "\n",
    "operation meanCost(x:Int[]):Double{\n",
    "    mutable res = 0.0;\n",
    "    //for //i in 0..Length(x)-1{\n",
    "      //  set res += cost(x[i]);\n",
    "    //}\n",
    "    let distances = getDistanceMatrix();\n",
    "    mutable horizontal = new Double[Length(x)];\n",
    "    for i in 0..Length(x)-1{\n",
    "        for j in 0..Length(x)-1{\n",
    "            set horizontal w/= i <-horizontal[i]+IntAsDouble(x[i])*distances[i][j]; //may be distances[j,i]\n",
    "        }            \n",
    "    }\n",
    "\n",
    "    for k in 0..Length(x)-1{\n",
    "        set res = res+horizontal[k]*IntAsDouble(x[k]);\n",
    "    }\n",
    "\n",
    "    return res;///IntAsDouble(Length(x));\n",
    "}\n",
    "\n",
    "operation classicalOptimizerBasic(lastCost:Double, gamma:Double, beta:Double, p:Int, length:Int, learnignRate:Double):(Double, Double){\n",
    "    mutable g = gamma;\n",
    "    mutable b = beta;\n",
    "    mutable min = [gamma, beta];\n",
    "    for i in -1..1{\n",
    "        if i !=0{\n",
    "            for j in -1..1{\n",
    "                if j!= 0{\n",
    "                    set g = gamma + IntAsDouble(i)*learnignRate;\n",
    "                    set b = beta + IntAsDouble(j)*learnignRate;\n",
    "                    if lastCost > costAttempt(QAOA(length, p, g, b)){\n",
    "                        set min = [g, b];\n",
    "                    } \n",
    "                }\n",
    "            }\n",
    "        }\n",
    "    }\n",
    "    #if (g < (gamma-.05) or g > (gamma+.05) or b<(beta-.05) or b>(beta+.05)){\n",
    "    if (g < (gamma-.05) or g > (gamma+.05) or b<(beta-.05) or b>(beta+.05)){ \n",
    "        return classicalOptimizerBasic(costAttempt(QAOA(length, p, g, b)), g, b, p, length, learnignRate);\n",
    "    }\n",
    "    return (min[0], min[1]);\n",
    "}\n",
    "\n",
    "operation test(x: Double, y:Double, z:Int):Double{\n",
    "    return 100.0;\n",
    "}\n",
    "     "
>>>>>>> 6557ef72f52a9ebcfa1912a74fb74109bad0a9bb
   ]
  },
  {
   "cell_type": "code",
<<<<<<< HEAD
<<<<<<< HEAD
   "execution_count": 103,
=======
   "execution_count": 7,
>>>>>>> 6557ef72f52a9ebcfa1912a74fb74109bad0a9bb
=======
   "execution_count": 5,
>>>>>>> bfdee9634bc9cf84b7ad034e39d7693f2b1ea06f
   "metadata": {},
   "outputs": [],
   "source": [
    "import numpy as np\n",
    "from scipy.optimize import minimize"
   ]
  },
  {
   "cell_type": "code",
<<<<<<< HEAD
<<<<<<< HEAD
   "execution_count": 104,
=======
   "execution_count": 25,
>>>>>>> 6557ef72f52a9ebcfa1912a74fb74109bad0a9bb
=======
   "execution_count": 6,
>>>>>>> bfdee9634bc9cf84b7ad034e39d7693f2b1ea06f
   "metadata": {},
   "outputs": [
    {
     "name": "stdout",
     "output_type": "stream",
     "text": [
      "[0, 0, 0, 0, 1, 0, 1, 0, 0]\n",
      "[0, 1, 1, 1, 0, 1, 0, 1, 1]\n",
      "[1, 0, 0, 0, 1, 1, 0, 1, 1]\n",
      "[0, 0, 1, 0, 0, 0, 1, 0, 0]\n"
     ]
    }
   ],
   "source": [
    "myP=1\n",
    "print(QAOA.simulate(lengthRegister=9, p=myP, gamma=1, beta=1))\n",
    "print(QAOA.simulate(lengthRegister=9, p=myP, gamma=1, beta=1))\n",
    "print(QAOA.simulate(lengthRegister=9, p=myP, gamma=1, beta=1))\n",
    "print(QAOA.simulate(lengthRegister=9, p=myP, gamma=1, beta=1))"
   ]
  },
  {
   "cell_type": "code",
   "execution_count": 15,
   "metadata": {},
   "outputs": [
    {
     "name": "stdout",
     "output_type": "stream",
     "text": [
      "pre optimize 1593.0\n",
      "post optimize: 4908.0\n",
      "-----\n",
      "Ideal: 515.0\n"
     ]
    }
   ],
   "source": [
    "# def optimize(gammaIn, betaIn, LR):\n",
    "#     print(testQAOAWithX.simulate(gamma=gammaIn, beta=gammaIn))\n",
    "#     prevCost = testQAOAWithX.simulate(gamma=1, beta=1.7)\n",
    "#     arr = classicalOptimizerBasic.simulate(lastCost=prevCost, gamma=1, beta=1.7, p=1, length=9, learnignRate=LR)\n",
    "#     g = arr[0]\n",
    "#     b=arr[1]\n",
    "#     print(\"g=\", g)\n",
    "#     print(\"b=\", b)\n",
    "#     print(testQAOAWithX.simulate(gamma=g, beta=b))\n",
    "    \n",
    "#     #if(g < (gammaIn-.01) and g > (gammaIn+.01) and b<(betaIn-.01) and b>(betaIn+.01)):\n",
    "#     if(g != gammaIn and b != betaIn):\n",
    "#         optimize(g,b, LR/1.1)\n",
    "#     else:\n",
    "#         return\n",
    "        \n",
    "# optimize(1, 1.7, .01)\n",
    "\n",
    "g=1.7\n",
    "b=1.7\n",
    "print(\"pre optimize\", testQAOAWithX.simulate(gamma=g, beta=b))\n",
    "arr=classicalOptimizerBasic.simulate(lastCost=12000, gamma=g, beta=b, p=1, length=9, learnignRate=0.05)\n",
    "g = arr[0]\n",
    "b=arr[1]\n",
    "print(\"post optimize:\", testQAOAWithX.simulate(gamma=g, beta=b))\n",
    "# print(testQAOAWithX.simulate(gamma=g, beta=b))\n",
    "# print(testQAOAWithX.simulate(gamma=g, beta=b))\n",
    "\n",
    "\n",
    "\n",
    "print(\"-----\")\n",
    "\n",
    "# print(costAttempt.simulate(result=[1,1,0,0,1,0,0,1,0]))\n",
    "# print(costAttempt.simulate(result=[1,0,1,0,1,0,0,0,1]))\n",
    "# print(costAttempt.simulate(result=[0,1,1,0,1,0,0,0,1]))\n",
    "# print(costAttempt.simulate(result=[1,0,0,0,1,1,1,1,1]))\n",
    "# print(costAttempt.simulate(result=[0,0,0,0,0,0,0,0,1]))\n",
    "\n",
    "print(\"Ideal:\",costAttempt.simulate(result=[1,0,0,0,1,0,0,0,1])) #ideal"
   ]
  },
  {
   "cell_type": "code",
   "execution_count": 122,
   "metadata": {
    "scrolled": false
   },
   "outputs": [
    {
     "name": "stdout",
     "output_type": "stream",
     "text": [
      "[1, 1, 0, 1, 1, 0, 1, 0, 1]\n",
      "2643.0\n"
     ]
    },
    {
     "ename": "TypeError",
     "evalue": "'<' not supported between instances of 'NoneType' and 'float'",
     "output_type": "error",
     "traceback": [
      "\u001b[1;31m---------------------------------------------------------------------------\u001b[0m",
      "\u001b[1;31mTypeError\u001b[0m                                 Traceback (most recent call last)",
<<<<<<< HEAD
<<<<<<< HEAD
      "\u001b[1;32m~\\AppData\\Local\\Temp\\ipykernel_23636\\2783854661.py\u001b[0m in \u001b[0;36m<module>\u001b[1;34m\u001b[0m\n\u001b[0;32m     14\u001b[0m \u001b[1;33m\u001b[0m\u001b[0m\n\u001b[0;32m     15\u001b[0m \u001b[1;31m# Perform optimization\u001b[0m\u001b[1;33m\u001b[0m\u001b[1;33m\u001b[0m\u001b[0m\n\u001b[1;32m---> 16\u001b[1;33m \u001b[0mresult\u001b[0m \u001b[1;33m=\u001b[0m \u001b[0mminimize\u001b[0m\u001b[1;33m(\u001b[0m\u001b[0mobj_func\u001b[0m\u001b[1;33m,\u001b[0m \u001b[0minitial_guess\u001b[0m\u001b[1;33m,\u001b[0m \u001b[1;33m)\u001b[0m\u001b[1;33m\u001b[0m\u001b[1;33m\u001b[0m\u001b[0m\n\u001b[0m\u001b[0;32m     17\u001b[0m \u001b[1;33m\u001b[0m\u001b[0m\n\u001b[0;32m     18\u001b[0m \u001b[1;31m# Extract the optimized parameters\u001b[0m\u001b[1;33m\u001b[0m\u001b[1;33m\u001b[0m\u001b[0m\n",
=======
      "\u001b[1;32m~\\AppData\\Local\\Temp\\ipykernel_5264\\400532624.py\u001b[0m in \u001b[0;36m<module>\u001b[1;34m\u001b[0m\n\u001b[0;32m     14\u001b[0m \u001b[1;33m\u001b[0m\u001b[0m\n\u001b[0;32m     15\u001b[0m \u001b[1;31m# Perform optimization\u001b[0m\u001b[1;33m\u001b[0m\u001b[1;33m\u001b[0m\u001b[0m\n\u001b[1;32m---> 16\u001b[1;33m \u001b[0mresult\u001b[0m \u001b[1;33m=\u001b[0m \u001b[0mminimize\u001b[0m\u001b[1;33m(\u001b[0m\u001b[0mobj_func\u001b[0m\u001b[1;33m,\u001b[0m \u001b[0minitial_guess\u001b[0m\u001b[1;33m)\u001b[0m\u001b[1;33m\u001b[0m\u001b[1;33m\u001b[0m\u001b[0m\n\u001b[0m\u001b[0;32m     17\u001b[0m \u001b[1;33m\u001b[0m\u001b[0m\n\u001b[0;32m     18\u001b[0m \u001b[1;31m# Extract the optimized parameters\u001b[0m\u001b[1;33m\u001b[0m\u001b[1;33m\u001b[0m\u001b[0m\n",
>>>>>>> 6557ef72f52a9ebcfa1912a74fb74109bad0a9bb
=======
      "\u001b[1;32m~\\AppData\\Local\\Temp\\ipykernel_5264\\2369671825.py\u001b[0m in \u001b[0;36m<module>\u001b[1;34m\u001b[0m\n\u001b[0;32m     14\u001b[0m \u001b[1;33m\u001b[0m\u001b[0m\n\u001b[0;32m     15\u001b[0m \u001b[1;31m# Perform optimization\u001b[0m\u001b[1;33m\u001b[0m\u001b[1;33m\u001b[0m\u001b[0m\n\u001b[1;32m---> 16\u001b[1;33m \u001b[0mresult\u001b[0m \u001b[1;33m=\u001b[0m \u001b[0mminimize\u001b[0m\u001b[1;33m(\u001b[0m\u001b[0mobj_func\u001b[0m\u001b[1;33m,\u001b[0m \u001b[0minitial_guess\u001b[0m\u001b[1;33m)\u001b[0m\u001b[1;33m\u001b[0m\u001b[1;33m\u001b[0m\u001b[0m\n\u001b[0m\u001b[0;32m     17\u001b[0m \u001b[1;33m\u001b[0m\u001b[0m\n\u001b[0;32m     18\u001b[0m \u001b[1;31m# Extract the optimized parameters\u001b[0m\u001b[1;33m\u001b[0m\u001b[1;33m\u001b[0m\u001b[0m\n",
>>>>>>> bfdee9634bc9cf84b7ad034e39d7693f2b1ea06f
      "\u001b[1;32m~\\anaconda3\\lib\\site-packages\\scipy\\optimize\\_minimize.py\u001b[0m in \u001b[0;36mminimize\u001b[1;34m(fun, x0, args, method, jac, hess, hessp, bounds, constraints, tol, callback, options)\u001b[0m\n\u001b[0;32m    692\u001b[0m         \u001b[0mres\u001b[0m \u001b[1;33m=\u001b[0m \u001b[0m_minimize_cg\u001b[0m\u001b[1;33m(\u001b[0m\u001b[0mfun\u001b[0m\u001b[1;33m,\u001b[0m \u001b[0mx0\u001b[0m\u001b[1;33m,\u001b[0m \u001b[0margs\u001b[0m\u001b[1;33m,\u001b[0m \u001b[0mjac\u001b[0m\u001b[1;33m,\u001b[0m \u001b[0mcallback\u001b[0m\u001b[1;33m,\u001b[0m \u001b[1;33m**\u001b[0m\u001b[0moptions\u001b[0m\u001b[1;33m)\u001b[0m\u001b[1;33m\u001b[0m\u001b[1;33m\u001b[0m\u001b[0m\n\u001b[0;32m    693\u001b[0m     \u001b[1;32melif\u001b[0m \u001b[0mmeth\u001b[0m \u001b[1;33m==\u001b[0m \u001b[1;34m'bfgs'\u001b[0m\u001b[1;33m:\u001b[0m\u001b[1;33m\u001b[0m\u001b[1;33m\u001b[0m\u001b[0m\n\u001b[1;32m--> 694\u001b[1;33m         \u001b[0mres\u001b[0m \u001b[1;33m=\u001b[0m \u001b[0m_minimize_bfgs\u001b[0m\u001b[1;33m(\u001b[0m\u001b[0mfun\u001b[0m\u001b[1;33m,\u001b[0m \u001b[0mx0\u001b[0m\u001b[1;33m,\u001b[0m \u001b[0margs\u001b[0m\u001b[1;33m,\u001b[0m \u001b[0mjac\u001b[0m\u001b[1;33m,\u001b[0m \u001b[0mcallback\u001b[0m\u001b[1;33m,\u001b[0m \u001b[1;33m**\u001b[0m\u001b[0moptions\u001b[0m\u001b[1;33m)\u001b[0m\u001b[1;33m\u001b[0m\u001b[1;33m\u001b[0m\u001b[0m\n\u001b[0m\u001b[0;32m    695\u001b[0m     \u001b[1;32melif\u001b[0m \u001b[0mmeth\u001b[0m \u001b[1;33m==\u001b[0m \u001b[1;34m'newton-cg'\u001b[0m\u001b[1;33m:\u001b[0m\u001b[1;33m\u001b[0m\u001b[1;33m\u001b[0m\u001b[0m\n\u001b[0;32m    696\u001b[0m         res = _minimize_newtoncg(fun, x0, args, jac, hess, hessp, callback,\n",
      "\u001b[1;32m~\\anaconda3\\lib\\site-packages\\scipy\\optimize\\_optimize.py\u001b[0m in \u001b[0;36m_minimize_bfgs\u001b[1;34m(fun, x0, args, jac, callback, gtol, norm, eps, maxiter, disp, return_all, finite_diff_rel_step, **unknown_options)\u001b[0m\n\u001b[0;32m   1281\u001b[0m         \u001b[0mmaxiter\u001b[0m \u001b[1;33m=\u001b[0m \u001b[0mlen\u001b[0m\u001b[1;33m(\u001b[0m\u001b[0mx0\u001b[0m\u001b[1;33m)\u001b[0m \u001b[1;33m*\u001b[0m \u001b[1;36m200\u001b[0m\u001b[1;33m\u001b[0m\u001b[1;33m\u001b[0m\u001b[0m\n\u001b[0;32m   1282\u001b[0m \u001b[1;33m\u001b[0m\u001b[0m\n\u001b[1;32m-> 1283\u001b[1;33m     sf = _prepare_scalar_function(fun, x0, jac, args=args, epsilon=eps,\n\u001b[0m\u001b[0;32m   1284\u001b[0m                                   finite_diff_rel_step=finite_diff_rel_step)\n\u001b[0;32m   1285\u001b[0m \u001b[1;33m\u001b[0m\u001b[0m\n",
      "\u001b[1;32m~\\anaconda3\\lib\\site-packages\\scipy\\optimize\\_optimize.py\u001b[0m in \u001b[0;36m_prepare_scalar_function\u001b[1;34m(fun, x0, jac, args, bounds, epsilon, finite_diff_rel_step, hess)\u001b[0m\n\u001b[0;32m    261\u001b[0m     \u001b[1;31m# ScalarFunction caches. Reuse of fun(x) during grad\u001b[0m\u001b[1;33m\u001b[0m\u001b[1;33m\u001b[0m\u001b[0m\n\u001b[0;32m    262\u001b[0m     \u001b[1;31m# calculation reduces overall function evaluations.\u001b[0m\u001b[1;33m\u001b[0m\u001b[1;33m\u001b[0m\u001b[0m\n\u001b[1;32m--> 263\u001b[1;33m     sf = ScalarFunction(fun, x0, args, grad, hess,\n\u001b[0m\u001b[0;32m    264\u001b[0m                         finite_diff_rel_step, bounds, epsilon=epsilon)\n\u001b[0;32m    265\u001b[0m \u001b[1;33m\u001b[0m\u001b[0m\n",
      "\u001b[1;32m~\\anaconda3\\lib\\site-packages\\scipy\\optimize\\_differentiable_functions.py\u001b[0m in \u001b[0;36m__init__\u001b[1;34m(self, fun, x0, args, grad, hess, finite_diff_rel_step, finite_diff_bounds, epsilon)\u001b[0m\n\u001b[0;32m    156\u001b[0m \u001b[1;33m\u001b[0m\u001b[0m\n\u001b[0;32m    157\u001b[0m         \u001b[0mself\u001b[0m\u001b[1;33m.\u001b[0m\u001b[0m_update_fun_impl\u001b[0m \u001b[1;33m=\u001b[0m \u001b[0mupdate_fun\u001b[0m\u001b[1;33m\u001b[0m\u001b[1;33m\u001b[0m\u001b[0m\n\u001b[1;32m--> 158\u001b[1;33m         \u001b[0mself\u001b[0m\u001b[1;33m.\u001b[0m\u001b[0m_update_fun\u001b[0m\u001b[1;33m(\u001b[0m\u001b[1;33m)\u001b[0m\u001b[1;33m\u001b[0m\u001b[1;33m\u001b[0m\u001b[0m\n\u001b[0m\u001b[0;32m    159\u001b[0m \u001b[1;33m\u001b[0m\u001b[0m\n\u001b[0;32m    160\u001b[0m         \u001b[1;31m# Gradient evaluation\u001b[0m\u001b[1;33m\u001b[0m\u001b[1;33m\u001b[0m\u001b[0m\n",
      "\u001b[1;32m~\\anaconda3\\lib\\site-packages\\scipy\\optimize\\_differentiable_functions.py\u001b[0m in \u001b[0;36m_update_fun\u001b[1;34m(self)\u001b[0m\n\u001b[0;32m    249\u001b[0m     \u001b[1;32mdef\u001b[0m \u001b[0m_update_fun\u001b[0m\u001b[1;33m(\u001b[0m\u001b[0mself\u001b[0m\u001b[1;33m)\u001b[0m\u001b[1;33m:\u001b[0m\u001b[1;33m\u001b[0m\u001b[1;33m\u001b[0m\u001b[0m\n\u001b[0;32m    250\u001b[0m         \u001b[1;32mif\u001b[0m \u001b[1;32mnot\u001b[0m \u001b[0mself\u001b[0m\u001b[1;33m.\u001b[0m\u001b[0mf_updated\u001b[0m\u001b[1;33m:\u001b[0m\u001b[1;33m\u001b[0m\u001b[1;33m\u001b[0m\u001b[0m\n\u001b[1;32m--> 251\u001b[1;33m             \u001b[0mself\u001b[0m\u001b[1;33m.\u001b[0m\u001b[0m_update_fun_impl\u001b[0m\u001b[1;33m(\u001b[0m\u001b[1;33m)\u001b[0m\u001b[1;33m\u001b[0m\u001b[1;33m\u001b[0m\u001b[0m\n\u001b[0m\u001b[0;32m    252\u001b[0m             \u001b[0mself\u001b[0m\u001b[1;33m.\u001b[0m\u001b[0mf_updated\u001b[0m \u001b[1;33m=\u001b[0m \u001b[1;32mTrue\u001b[0m\u001b[1;33m\u001b[0m\u001b[1;33m\u001b[0m\u001b[0m\n\u001b[0;32m    253\u001b[0m \u001b[1;33m\u001b[0m\u001b[0m\n",
      "\u001b[1;32m~\\anaconda3\\lib\\site-packages\\scipy\\optimize\\_differentiable_functions.py\u001b[0m in \u001b[0;36mupdate_fun\u001b[1;34m()\u001b[0m\n\u001b[0;32m    153\u001b[0m \u001b[1;33m\u001b[0m\u001b[0m\n\u001b[0;32m    154\u001b[0m         \u001b[1;32mdef\u001b[0m \u001b[0mupdate_fun\u001b[0m\u001b[1;33m(\u001b[0m\u001b[1;33m)\u001b[0m\u001b[1;33m:\u001b[0m\u001b[1;33m\u001b[0m\u001b[1;33m\u001b[0m\u001b[0m\n\u001b[1;32m--> 155\u001b[1;33m             \u001b[0mself\u001b[0m\u001b[1;33m.\u001b[0m\u001b[0mf\u001b[0m \u001b[1;33m=\u001b[0m \u001b[0mfun_wrapped\u001b[0m\u001b[1;33m(\u001b[0m\u001b[0mself\u001b[0m\u001b[1;33m.\u001b[0m\u001b[0mx\u001b[0m\u001b[1;33m)\u001b[0m\u001b[1;33m\u001b[0m\u001b[1;33m\u001b[0m\u001b[0m\n\u001b[0m\u001b[0;32m    156\u001b[0m \u001b[1;33m\u001b[0m\u001b[0m\n\u001b[0;32m    157\u001b[0m         \u001b[0mself\u001b[0m\u001b[1;33m.\u001b[0m\u001b[0m_update_fun_impl\u001b[0m \u001b[1;33m=\u001b[0m \u001b[0mupdate_fun\u001b[0m\u001b[1;33m\u001b[0m\u001b[1;33m\u001b[0m\u001b[0m\n",
      "\u001b[1;32m~\\anaconda3\\lib\\site-packages\\scipy\\optimize\\_differentiable_functions.py\u001b[0m in \u001b[0;36mfun_wrapped\u001b[1;34m(x)\u001b[0m\n\u001b[0;32m    146\u001b[0m                     ) from e\n\u001b[0;32m    147\u001b[0m \u001b[1;33m\u001b[0m\u001b[0m\n\u001b[1;32m--> 148\u001b[1;33m             \u001b[1;32mif\u001b[0m \u001b[0mfx\u001b[0m \u001b[1;33m<\u001b[0m \u001b[0mself\u001b[0m\u001b[1;33m.\u001b[0m\u001b[0m_lowest_f\u001b[0m\u001b[1;33m:\u001b[0m\u001b[1;33m\u001b[0m\u001b[1;33m\u001b[0m\u001b[0m\n\u001b[0m\u001b[0;32m    149\u001b[0m                 \u001b[0mself\u001b[0m\u001b[1;33m.\u001b[0m\u001b[0m_lowest_x\u001b[0m \u001b[1;33m=\u001b[0m \u001b[0mx\u001b[0m\u001b[1;33m\u001b[0m\u001b[1;33m\u001b[0m\u001b[0m\n\u001b[0;32m    150\u001b[0m                 \u001b[0mself\u001b[0m\u001b[1;33m.\u001b[0m\u001b[0m_lowest_f\u001b[0m \u001b[1;33m=\u001b[0m \u001b[0mfx\u001b[0m\u001b[1;33m\u001b[0m\u001b[1;33m\u001b[0m\u001b[0m\n",
      "\u001b[1;31mTypeError\u001b[0m: '<' not supported between instances of 'NoneType' and 'float'"
     ]
    }
   ],
   "source": [
    "#def obj_func(angles):\n",
    "#    gamma, beta = angles\n",
    "#    return meanCost.simulate(x=QAOA.simulate(measure=[true, true, true, true, true], p=1, g=gamma, b=beta))\n",
    "\n",
    "def obj_func(params):\n",
    "    my_x=QAOA.simulate(lengthRegister=9,p=1, beta=params[0], gamma=params[1])\n",
    "    print(my_x)\n",
    "    my_res = (costAttempt.simulate(result=my_x))\n",
    "    print(my_res)\n",
    "\n",
    "# Initial guess for the parameters\n",
    "initial_guess = [0.0, 0.0]\n",
    "\n",
    "\n",
    "# Perform optimization\n",
<<<<<<< HEAD
    "result = minimize(obj_func, initial_guess, )\n",
=======
    "result = minimize(obj_func, initial_guess)\n",
>>>>>>> 6557ef72f52a9ebcfa1912a74fb74109bad0a9bb
    "\n",
    "# Extract the optimized parameters\n",
    "optimized_params = result.x"
   ]
  },
  {
   "cell_type": "code",
   "execution_count": null,
   "metadata": {},
   "outputs": [],
<<<<<<< HEAD
=======
   "source": [
    "from scipy.optimize import minimize\n",
    "import networkx as nx"
   ]
  },
  {
   "cell_type": "code",
   "execution_count": 11,
   "metadata": {},
   "outputs": [
    {
     "name": "stdout",
     "output_type": "stream",
     "text": [
      "The side length 3\r\n"
     ]
    },
    {
     "ename": "TypeError",
     "evalue": "'float' object is not callable",
     "output_type": "error",
     "traceback": [
      "\u001b[1;31m---------------------------------------------------------------------------\u001b[0m",
      "\u001b[1;31mTypeError\u001b[0m                                 Traceback (most recent call last)",
      "\u001b[1;32m~\\AppData\\Local\\Temp\\ipykernel_38816\\3238575957.py\u001b[0m in \u001b[0;36m<module>\u001b[1;34m\u001b[0m\n\u001b[0;32m      6\u001b[0m     \u001b[1;32mreturn\u001b[0m \u001b[0mres\u001b[0m \u001b[1;31m## optimized values\u001b[0m\u001b[1;33m\u001b[0m\u001b[1;33m\u001b[0m\u001b[0m\n\u001b[0;32m      7\u001b[0m \u001b[1;33m\u001b[0m\u001b[0m\n\u001b[1;32m----> 8\u001b[1;33m \u001b[0mmain\u001b[0m\u001b[1;33m(\u001b[0m\u001b[1;33m)\u001b[0m\u001b[1;33m\u001b[0m\u001b[1;33m\u001b[0m\u001b[0m\n\u001b[0m",
      "\u001b[1;32m~\\AppData\\Local\\Temp\\ipykernel_38816\\3238575957.py\u001b[0m in \u001b[0;36mmain\u001b[1;34m()\u001b[0m\n\u001b[0;32m      2\u001b[0m \u001b[1;33m\u001b[0m\u001b[0m\n\u001b[0;32m      3\u001b[0m     \u001b[0mexpectation\u001b[0m \u001b[1;33m=\u001b[0m \u001b[0mtestQAOAWithX\u001b[0m\u001b[1;33m.\u001b[0m\u001b[0msimulate\u001b[0m\u001b[1;33m(\u001b[0m\u001b[1;33m)\u001b[0m\u001b[1;33m\u001b[0m\u001b[1;33m\u001b[0m\u001b[0m\n\u001b[1;32m----> 4\u001b[1;33m     \u001b[0mres\u001b[0m \u001b[1;33m=\u001b[0m \u001b[0mminimize\u001b[0m\u001b[1;33m(\u001b[0m\u001b[0mexpectation\u001b[0m\u001b[1;33m,\u001b[0m\u001b[1;33m[\u001b[0m\u001b[1;36m1.0\u001b[0m\u001b[1;33m,\u001b[0m \u001b[1;36m1.0\u001b[0m\u001b[1;33m]\u001b[0m\u001b[1;33m,\u001b[0m \u001b[0mmethod\u001b[0m\u001b[1;33m=\u001b[0m\u001b[1;34m'COBYLA'\u001b[0m\u001b[1;33m)\u001b[0m\u001b[1;33m\u001b[0m\u001b[1;33m\u001b[0m\u001b[0m\n\u001b[0m\u001b[0;32m      5\u001b[0m \u001b[1;33m\u001b[0m\u001b[0m\n\u001b[0;32m      6\u001b[0m     \u001b[1;32mreturn\u001b[0m \u001b[0mres\u001b[0m \u001b[1;31m## optimized values\u001b[0m\u001b[1;33m\u001b[0m\u001b[1;33m\u001b[0m\u001b[0m\n",
      "\u001b[1;32m~\\anaconda3\\lib\\site-packages\\scipy\\optimize\\_minimize.py\u001b[0m in \u001b[0;36mminimize\u001b[1;34m(fun, x0, args, method, jac, hess, hessp, bounds, constraints, tol, callback, options)\u001b[0m\n\u001b[0;32m    703\u001b[0m                             **options)\n\u001b[0;32m    704\u001b[0m     \u001b[1;32melif\u001b[0m \u001b[0mmeth\u001b[0m \u001b[1;33m==\u001b[0m \u001b[1;34m'cobyla'\u001b[0m\u001b[1;33m:\u001b[0m\u001b[1;33m\u001b[0m\u001b[1;33m\u001b[0m\u001b[0m\n\u001b[1;32m--> 705\u001b[1;33m         res = _minimize_cobyla(fun, x0, args, constraints, callback=callback,\n\u001b[0m\u001b[0;32m    706\u001b[0m                                 **options)\n\u001b[0;32m    707\u001b[0m     \u001b[1;32melif\u001b[0m \u001b[0mmeth\u001b[0m \u001b[1;33m==\u001b[0m \u001b[1;34m'slsqp'\u001b[0m\u001b[1;33m:\u001b[0m\u001b[1;33m\u001b[0m\u001b[1;33m\u001b[0m\u001b[0m\n",
      "\u001b[1;32m~\\anaconda3\\lib\\site-packages\\scipy\\optimize\\_cobyla_py.py\u001b[0m in \u001b[0;36mwrapper\u001b[1;34m(*args, **kwargs)\u001b[0m\n\u001b[0;32m     32\u001b[0m     \u001b[1;32mdef\u001b[0m \u001b[0mwrapper\u001b[0m\u001b[1;33m(\u001b[0m\u001b[1;33m*\u001b[0m\u001b[0margs\u001b[0m\u001b[1;33m,\u001b[0m \u001b[1;33m**\u001b[0m\u001b[0mkwargs\u001b[0m\u001b[1;33m)\u001b[0m\u001b[1;33m:\u001b[0m\u001b[1;33m\u001b[0m\u001b[1;33m\u001b[0m\u001b[0m\n\u001b[0;32m     33\u001b[0m         \u001b[1;32mwith\u001b[0m \u001b[0m_module_lock\u001b[0m\u001b[1;33m:\u001b[0m\u001b[1;33m\u001b[0m\u001b[1;33m\u001b[0m\u001b[0m\n\u001b[1;32m---> 34\u001b[1;33m             \u001b[1;32mreturn\u001b[0m \u001b[0mfunc\u001b[0m\u001b[1;33m(\u001b[0m\u001b[1;33m*\u001b[0m\u001b[0margs\u001b[0m\u001b[1;33m,\u001b[0m \u001b[1;33m**\u001b[0m\u001b[0mkwargs\u001b[0m\u001b[1;33m)\u001b[0m\u001b[1;33m\u001b[0m\u001b[1;33m\u001b[0m\u001b[0m\n\u001b[0m\u001b[0;32m     35\u001b[0m     \u001b[1;32mreturn\u001b[0m \u001b[0mwrapper\u001b[0m\u001b[1;33m\u001b[0m\u001b[1;33m\u001b[0m\u001b[0m\n\u001b[0;32m     36\u001b[0m \u001b[1;33m\u001b[0m\u001b[0m\n",
      "\u001b[1;32m~\\anaconda3\\lib\\site-packages\\scipy\\optimize\\_cobyla_py.py\u001b[0m in \u001b[0;36m_minimize_cobyla\u001b[1;34m(fun, x0, args, constraints, rhobeg, tol, maxiter, disp, catol, callback, **unknown_options)\u001b[0m\n\u001b[0;32m    271\u001b[0m \u001b[1;33m\u001b[0m\u001b[0m\n\u001b[0;32m    272\u001b[0m     \u001b[0minfo\u001b[0m \u001b[1;33m=\u001b[0m \u001b[0mnp\u001b[0m\u001b[1;33m.\u001b[0m\u001b[0mzeros\u001b[0m\u001b[1;33m(\u001b[0m\u001b[1;36m4\u001b[0m\u001b[1;33m,\u001b[0m \u001b[0mnp\u001b[0m\u001b[1;33m.\u001b[0m\u001b[0mfloat64\u001b[0m\u001b[1;33m)\u001b[0m\u001b[1;33m\u001b[0m\u001b[1;33m\u001b[0m\u001b[0m\n\u001b[1;32m--> 273\u001b[1;33m     xopt, info = cobyla.minimize(calcfc, m=m, x=np.copy(x0), rhobeg=rhobeg,\n\u001b[0m\u001b[0;32m    274\u001b[0m                                   \u001b[0mrhoend\u001b[0m\u001b[1;33m=\u001b[0m\u001b[0mrhoend\u001b[0m\u001b[1;33m,\u001b[0m \u001b[0miprint\u001b[0m\u001b[1;33m=\u001b[0m\u001b[0miprint\u001b[0m\u001b[1;33m,\u001b[0m \u001b[0mmaxfun\u001b[0m\u001b[1;33m=\u001b[0m\u001b[0mmaxfun\u001b[0m\u001b[1;33m,\u001b[0m\u001b[1;33m\u001b[0m\u001b[1;33m\u001b[0m\u001b[0m\n\u001b[0;32m    275\u001b[0m                                   dinfo=info, callback=wrapped_callback)\n",
      "\u001b[1;32m~\\anaconda3\\lib\\site-packages\\scipy\\optimize\\_cobyla_py.py\u001b[0m in \u001b[0;36mcalcfc\u001b[1;34m(x, con)\u001b[0m\n\u001b[0;32m    259\u001b[0m \u001b[1;33m\u001b[0m\u001b[0m\n\u001b[0;32m    260\u001b[0m     \u001b[1;32mdef\u001b[0m \u001b[0mcalcfc\u001b[0m\u001b[1;33m(\u001b[0m\u001b[0mx\u001b[0m\u001b[1;33m,\u001b[0m \u001b[0mcon\u001b[0m\u001b[1;33m)\u001b[0m\u001b[1;33m:\u001b[0m\u001b[1;33m\u001b[0m\u001b[1;33m\u001b[0m\u001b[0m\n\u001b[1;32m--> 261\u001b[1;33m         \u001b[0mf\u001b[0m \u001b[1;33m=\u001b[0m \u001b[0mfun\u001b[0m\u001b[1;33m(\u001b[0m\u001b[0mnp\u001b[0m\u001b[1;33m.\u001b[0m\u001b[0mcopy\u001b[0m\u001b[1;33m(\u001b[0m\u001b[0mx\u001b[0m\u001b[1;33m)\u001b[0m\u001b[1;33m,\u001b[0m \u001b[1;33m*\u001b[0m\u001b[0margs\u001b[0m\u001b[1;33m)\u001b[0m\u001b[1;33m\u001b[0m\u001b[1;33m\u001b[0m\u001b[0m\n\u001b[0m\u001b[0;32m    262\u001b[0m         \u001b[0mi\u001b[0m \u001b[1;33m=\u001b[0m \u001b[1;36m0\u001b[0m\u001b[1;33m\u001b[0m\u001b[1;33m\u001b[0m\u001b[0m\n\u001b[0;32m    263\u001b[0m         \u001b[1;32mfor\u001b[0m \u001b[0msize\u001b[0m\u001b[1;33m,\u001b[0m \u001b[0mc\u001b[0m \u001b[1;32min\u001b[0m \u001b[0mizip\u001b[0m\u001b[1;33m(\u001b[0m\u001b[0mcons_lengths\u001b[0m\u001b[1;33m,\u001b[0m \u001b[0mconstraints\u001b[0m\u001b[1;33m)\u001b[0m\u001b[1;33m:\u001b[0m\u001b[1;33m\u001b[0m\u001b[1;33m\u001b[0m\u001b[0m\n",
      "\u001b[1;31mTypeError\u001b[0m: 'float' object is not callable"
     ]
    }
   ],
   "source": [
    "def main():\n",
    "    \n",
    "    expectation = testQAOAWithX.simulate()\n",
    "    res = minimize(expectation,[1.0, 1.0], method='COBYLA')\n",
    "\n",
    "    return res ## optimized values\n",
    "\n",
    "main()\n"
   ]
  },
  {
   "cell_type": "code",
   "execution_count": null,
   "metadata": {},
   "outputs": [],
>>>>>>> 6557ef72f52a9ebcfa1912a74fb74109bad0a9bb
   "source": []
  },
  {
   "cell_type": "code",
   "execution_count": null,
   "metadata": {},
   "outputs": [],
   "source": []
  },
  {
   "cell_type": "code",
   "execution_count": null,
   "metadata": {},
   "outputs": [],
   "source": []
  }
 ],
 "metadata": {
  "kernelspec": {
   "display_name": "Python 3 (ipykernel)",
   "language": "python",
   "name": "python3"
  },
  "language_info": {
   "codemirror_mode": {
    "name": "ipython",
    "version": 3
   },
   "file_extension": ".py",
   "mimetype": "text/x-python",
   "name": "python",
   "nbconvert_exporter": "python",
   "pygments_lexer": "ipython3",
   "version": "3.9.13"
  }
 },
 "nbformat": 4,
 "nbformat_minor": 2
}
